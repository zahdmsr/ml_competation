{
  "nbformat": 4,
  "nbformat_minor": 0,
  "metadata": {
    "colab": {
      "provenance": [],
      "gpuType": "T4",
      "authorship_tag": "ABX9TyNYQFTTAJwv63eRs4E3jGY8",
      "include_colab_link": true
    },
    "kernelspec": {
      "name": "python3",
      "display_name": "Python 3"
    },
    "language_info": {
      "name": "python"
    },
    "accelerator": "GPU"
  },
  "cells": [
    {
      "cell_type": "markdown",
      "metadata": {
        "id": "view-in-github",
        "colab_type": "text"
      },
      "source": [
        "<a href=\"https://colab.research.google.com/github/zahdmsr/ml_competation/blob/main/my_first_notebook.ipynb\" target=\"_parent\"><img src=\"https://colab.research.google.com/assets/colab-badge.svg\" alt=\"Open In Colab\"/></a>"
      ]
    },
    {
      "cell_type": "code",
      "source": [
        "from sklearn.datasets import load_iris\n",
        "from sklearn.cluster import KMeans\n",
        "import pandas as pd\n",
        "\n",
        "X = load_iris().data\n",
        "df = pd.DataFrame(X)\n",
        "\n",
        "kmeans = KMeans(n_clusters=3)\n",
        "kmeans.fit(df)"
      ],
      "metadata": {
        "id": "omFaGu1Nzz0l"
      },
      "execution_count": null,
      "outputs": []
    },
    {
      "cell_type": "code",
      "source": [
        "from sklearn.metrics import accuracy_score\n",
        "\n",
        "# True labels\n",
        "y_true = [0, 1, 1, 0, 1, 0, 1, 1]\n",
        "\n",
        "# Model’s predictions\n",
        "y_pred = [0, 1, 1, 0, 1, 0, 1, 1]\n",
        "\n",
        "# Calculate accuracy\n",
        "acc = accuracy_score(y_true, y_pred)\n",
        "print(\"Accuracy:\", acc)"
      ],
      "metadata": {
        "colab": {
          "base_uri": "https://localhost:8080/"
        },
        "id": "8XRtpIDPvxkC",
        "outputId": "02820b52-61b3-494f-ddac-b977b8533698"
      },
      "execution_count": null,
      "outputs": [
        {
          "output_type": "stream",
          "name": "stdout",
          "text": [
            "Accuracy: 1.0\n"
          ]
        }
      ]
    },
    {
      "cell_type": "markdown",
      "source": [
        "## clustering evaluation metrics"
      ],
      "metadata": {
        "id": "6CR_2WEmH6Nj"
      }
    },
    {
      "cell_type": "code",
      "execution_count": null,
      "metadata": {
        "id": "JnbDpBcHABdk",
        "collapsed": true
      },
      "outputs": [],
      "source": [
        "from sklearn.metrics import mean_squared_error, mean_absolute_error, accuracy_score, precision_score, recall_score, f1_score, r2_score\n",
        "X_true = [1, 1, 0, 1, 0, 0, 0, 1]\n",
        "y_pred = [1, 1, 0, 1, 0, 0, 0, 1]\n",
        "\n",
        "accu = accuracy_score(X_true, y_pred)\n",
        "prec = precision_score(X_true, y_pred)\n",
        "rec = recall_score(X_true, y_pred)\n",
        "f1 = f1_score(X_true, y_pred)\n",
        "\n",
        "print(f\"accuracy: {accu}, precision: {prec}, recall: {rec}, F1 score: {f1}\")"
      ]
    },
    {
      "cell_type": "code",
      "source": [
        "from sklearn.model_selection import train_test_split\n",
        "from sklearn.datasets import load_iris\n",
        "\n",
        "X, y = load_iris().data, load_iris().target\n",
        "\n",
        "# Split data into training and the rest (for validation and testing)\n",
        "X_train, X_rest, y_train, y_rest = train_test_split(X, y, test_size=0.4, random_state=42) # 40% for rest\n",
        "\n",
        "# Split the rest into validation and testing sets\n",
        "X_val, X_test, y_val, y_test = train_test_split(X_rest, y_rest, test_size=0.5, random_state=42) # 50% of the rest (which is 20% of original) for testing\n",
        "\n",
        "print(f\"Training set size: {len(X_train)}\")\n",
        "print(f\"Validation set size: {len(X_val)}\")\n",
        "print(f\"Testing set size: {len(X_test)}\")"
      ],
      "metadata": {
        "colab": {
          "base_uri": "https://localhost:8080/"
        },
        "id": "B3Y_ObSKNref",
        "outputId": "d9e75768-cdfe-4bd1-f136-915c5356a1a0"
      },
      "execution_count": null,
      "outputs": [
        {
          "output_type": "stream",
          "name": "stdout",
          "text": [
            "Training set size: 90\n",
            "Validation set size: 30\n",
            "Testing set size: 30\n"
          ]
        }
      ]
    },
    {
      "cell_type": "code",
      "source": [
        "X_train, X_rest, y_train, y_rest = train_test_split(X, y, test_size=0.4, random_state=42)\n",
        "X_val, X_test, y_val, y_test = train_test_split(X_rest, y_rest, test_size=0.5, random_state=42)\n",
        "\n",
        "print(len(X_train), len(X_val), len(X_test))"
      ],
      "metadata": {
        "id": "oBftwQk4eNrE"
      },
      "execution_count": null,
      "outputs": []
    },
    {
      "cell_type": "code",
      "source": [
        "from sklearn.datasets import load_iris\n",
        "from sklearn.cluster import KMeans\n",
        "from sklearn.metrics import silhouette_score, mean_squared_error, davies_bouldin_score\n",
        "from sklearn.decomposition import PCA\n",
        "\n",
        "X = load_iris().data\n",
        "\n",
        "pca = PCA(n_components=3)\n",
        "\n",
        "X_reduced = pca.fit(X)\n",
        "re_conts = pca.inverse_transform(X_reduced)\n",
        "mse = mean_squared_error(X, re_conts)\n",
        "\n",
        "print(mse)"
      ],
      "metadata": {
        "id": "XWqJEXEMX7BF"
      },
      "execution_count": null,
      "outputs": []
    },
    {
      "cell_type": "code",
      "source": [
        "from sklearn.datasets import load_iris\n",
        "from sklearn.model_selection import GridSearchCV\n",
        "from sklearn.svm import SVC\n",
        "\n",
        "X, y = load_iris().data, load_iris().target\n",
        "\n",
        "model = SVC()\n",
        "\n",
        "param = {\n",
        "    'C' :[0.1, 1, 10],\n",
        "    'kernel' : ['linear', 'rbf'],\n",
        "    'gamma' : ['scale', 'auto']\n",
        "}\n",
        "\n",
        "grid = GridSearchCV(model, param, cv=3)\n",
        "grid.fit(X, y)\n",
        "\n",
        "print(grid.best_params_)\n",
        "print(grid.best_score_)"
      ],
      "metadata": {
        "id": "nv-G8Bv1oBk2",
        "colab": {
          "base_uri": "https://localhost:8080/"
        },
        "outputId": "532ae120-126f-4b3c-d91c-96c92fa79353"
      },
      "execution_count": null,
      "outputs": [
        {
          "output_type": "stream",
          "name": "stdout",
          "text": [
            "{'C': 1, 'gamma': 'scale', 'kernel': 'linear'}\n",
            "0.9933333333333333\n"
          ]
        }
      ]
    }
  ]
}